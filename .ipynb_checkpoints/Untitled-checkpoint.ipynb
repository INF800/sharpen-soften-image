{
 "cells": [
  {
   "cell_type": "code",
   "execution_count": 9,
   "metadata": {},
   "outputs": [],
   "source": [
    "import cv2\n",
    "import numpy as np\n",
    "import os\n",
    "\n",
    "def sharpSoft(path1, path2):\n",
    "    \n",
    "    # sharpen \n",
    "    for file in os.listdir(path1):\n",
    "        img = cv2.imread(path1 + '/' + file)\n",
    "        kernel = np.array([[-0.5,-0.5,-0.5], [-0.5,5,-0.5], [-0.5,-0.5,-0.5]])\n",
    "        img = cv2.filter2D(img, -1, kernel)\n",
    "        print('Saving sharp {} ...'.format(file))\n",
    "        cv2.imwrite('sharp/{}'.format(file), img)\n",
    "        \n",
    "    # soften\n",
    "    for file in os.listdir(path2):\n",
    "        img = cv2.imread(path2 + '/' + file)\n",
    "        kernel = np.ones((3,3),np.float32)/9\n",
    "        img = cv2.filter2D(img, -1, kernel)\n",
    "        print('Saving sharp-soft {} ...'.format(file))\n",
    "        cv2.imwrite('output/{}'.format(file), img)        "
   ]
  },
  {
   "cell_type": "code",
   "execution_count": 10,
   "metadata": {},
   "outputs": [
    {
     "name": "stdout",
     "output_type": "stream",
     "text": [
      "Saving sharp inim.PNG ...\n",
      "Saving sharp-soft inim.PNG ...\n"
     ]
    }
   ],
   "source": [
    "sharpSoft('input', 'sharp')"
   ]
  }
 ],
 "metadata": {
  "kernelspec": {
   "display_name": "Python 3",
   "language": "python",
   "name": "python3"
  },
  "language_info": {
   "codemirror_mode": {
    "name": "ipython",
    "version": 3
   },
   "file_extension": ".py",
   "mimetype": "text/x-python",
   "name": "python",
   "nbconvert_exporter": "python",
   "pygments_lexer": "ipython3",
   "version": "3.7.3"
  }
 },
 "nbformat": 4,
 "nbformat_minor": 2
}
